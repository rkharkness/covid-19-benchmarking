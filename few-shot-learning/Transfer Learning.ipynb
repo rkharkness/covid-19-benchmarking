{
 "cells": [
  {
   "cell_type": "markdown",
   "metadata": {},
   "source": [
    "# COVID-19 Classification using Transfer Learning\n",
    "\n",
    "In this notebook, we have implemented baseline models of extracting last layer embeddings from VGG16 and use logistic regression."
   ]
  },
  {
   "cell_type": "code",
   "execution_count": 10,
   "metadata": {
    "scrolled": true
   },
   "outputs": [
    {
     "name": "stdout",
     "output_type": "stream",
     "text": [
      "Requirement already satisfied: opencv-python in /opt/anaconda3/lib/python3.7/site-packages (4.5.1.48)\r\n",
      "Requirement already satisfied: numpy>=1.14.5 in /opt/anaconda3/lib/python3.7/site-packages (from opencv-python) (1.18.4)\r\n"
     ]
    }
   ],
   "source": [
    "! pip install opencv-python"
   ]
  },
  {
   "cell_type": "code",
   "execution_count": 11,
   "metadata": {},
   "outputs": [],
   "source": [
    "import numpy as np\n",
    "import os\n",
    "import cv2\n",
    "import shutil\n",
    "from glob import glob\n",
    "from sklearn import preprocessing\n",
    "from keras.preprocessing import image\n",
    "from keras.applications.vgg16 import VGG16\n",
    "from keras.applications import xception\n",
    "from keras.applications import inception_v3\n",
    "from sklearn.metrics import precision_score, \\\n",
    "    recall_score, confusion_matrix, classification_report, \\\n",
    "    accuracy_score, f1_score"
   ]
  },
  {
   "cell_type": "code",
   "execution_count": 12,
   "metadata": {},
   "outputs": [],
   "source": [
    "BASE_DATA_FOLDER = \"./data\"\n",
    "TRAin_DATA_FOLDER = os.path.join(BASE_DATA_FOLDER, \"train\")"
   ]
  },
  {
   "cell_type": "code",
   "execution_count": 13,
   "metadata": {},
   "outputs": [],
   "source": [
    "nrows = 6\n",
    "ncols = 4\n",
    "pic_index = 0\n",
    "images = []\n",
    "labels = []\n",
    "\n",
    "for class_folder_name in os.listdir(TRAin_DATA_FOLDER):\n",
    "    class_folder_path = os.path.join(TRAin_DATA_FOLDER, class_folder_name)\n",
    "    for image_path in glob(os.path.join(class_folder_path, \"*.jpeg\")):\n",
    "        image = cv2.imread(image_path, cv2.IMREAD_COLOR)\n",
    "        image = cv2.cvtColor(image, cv2.COLOR_BGR2GRAY)\n",
    "        image = cv2.resize(image, (224,224))\n",
    "        image = np.stack((image,)*3, axis=-1)\n",
    "        images.append(image)\n",
    "        labels.append(class_folder_name)\n",
    "    for image_path in glob(os.path.join(class_folder_path, \"*.png\")):\n",
    "        image = cv2.imread(image_path, cv2.IMREAD_COLOR)\n",
    "        image = cv2.cvtColor(image, cv2.COLOR_BGR2GRAY)\n",
    "        image = cv2.resize(image, (224,224))\n",
    "        image = np.stack((image,)*3, axis=-1)    \n",
    "        images.append(image)\n",
    "        labels.append(class_folder_name)\n",
    "    for image_path in glob(os.path.join(class_folder_path, \"*.jpg\")):\n",
    "        image = cv2.imread(image_path, cv2.IMREAD_COLOR)\n",
    "        image = cv2.cvtColor(image, cv2.COLOR_BGR2GRAY)\n",
    "        image = cv2.resize(image, (224,224))\n",
    "        image = np.stack((image,)*3, axis=-1)\n",
    "        images.append(image)\n",
    "        labels.append(class_folder_name)"
   ]
  },
  {
   "cell_type": "code",
   "execution_count": 14,
   "metadata": {},
   "outputs": [],
   "source": [
    "images = np.array(images)\n",
    "labels = np.array(labels)\n",
    "pre = preprocessing.LabelEncoder()\n",
    "pre.fit(labels)\n",
    "labels_numeric = pre.transform(labels)\n",
    "Num_Class = 3\n",
    "\n",
    "def OneHotEncoded(y_train):\n",
    "    y_t=np.zeros((len(y_train),Num_Class), dtype=int)\n",
    "    for i,x in enumerate(y_train):\n",
    "        y_t[i][int(x)-1]=1\n",
    "    return y_t\n",
    "\n",
    "labels = OneHotEncoded(labels_numeric)\n",
    "\n",
    "X_train, X_test= train_test_split(images, test_size=0.2, random_state=42)\n",
    "y_train, y_test= train_test_split(labels, test_size=0.2, random_state=42)\n",
    "X_train = X_train.reshape(200, 224, 224, 3)\n",
    "X_test = X_test.reshape(51, 224, 224, 3)"
   ]
  },
  {
   "cell_type": "markdown",
   "metadata": {
    "id": "jXvpRUAy6Lt1"
   },
   "source": [
    "## the next step is to define the model that will be trained to recognize covid, normal or Viral Pneumonia from these images"
   ]
  },
  {
   "cell_type": "code",
   "execution_count": 15,
   "metadata": {},
   "outputs": [],
   "source": [
    "train_vgg_bf = X_train.reshape(X_train.shape[0],-1)\n",
    "valid_vgg_bf = X_test.reshape(X_test.shape[0],-1)"
   ]
  },
  {
   "cell_type": "code",
   "execution_count": 16,
   "metadata": {},
   "outputs": [
    {
     "name": "stdout",
     "output_type": "stream",
     "text": [
      "200/200 [==============================] - 17s 85ms/step\n",
      "51/51 [==============================] - 5s 92ms/step\n",
      "VGG train bottleneck features shape: (200, 512) size: 102,400\n",
      "VGG valid bottleneck features shape: (51, 512) size: 26,112\n"
     ]
    }
   ],
   "source": [
    "POOLING = 'avg'\n",
    "vgg_bottleneck = VGG16(weights='imagenet', include_top=False, pooling=POOLING)\n",
    "train_vgg_bf = vgg_bottleneck.predict(X_train, batch_size=32, verbose=1)\n",
    "valid_vgg_bf = vgg_bottleneck.predict(X_test, batch_size=32, verbose=1)\n",
    "print('VGG train bottleneck features shape: {} size: {:,}'.format(train_vgg_bf.shape, train_vgg_bf.size))\n",
    "print('VGG valid bottleneck features shape: {} size: {:,}'.format(valid_vgg_bf.shape, valid_vgg_bf.size))\n"
   ]
  },
  {
   "cell_type": "code",
   "execution_count": 17,
   "metadata": {},
   "outputs": [
    {
     "name": "stdout",
     "output_type": "stream",
     "text": [
      "Validation VGG LogLoss 0.44055241175848586\n",
      "Validation VGG Accuracy 0.9215686274509803\n"
     ]
    },
    {
     "name": "stderr",
     "output_type": "stream",
     "text": [
      "/opt/anaconda3/lib/python3.7/site-packages/sklearn/linear_model/_logistic.py:940: ConvergenceWarning: lbfgs failed to converge (status=1):\n",
      "STOP: TOTAL NO. of ITERATIONS REACHED LIMIT.\n",
      "\n",
      "Increase the number of iterations (max_iter) or scale the data as shown in:\n",
      "    https://scikit-learn.org/stable/modules/preprocessing.html\n",
      "Please also refer to the documentation for alternative solver options:\n",
      "    https://scikit-learn.org/stable/modules/linear_model.html#logistic-regression\n",
      "  extra_warning_msg=_LOGISTIC_SOLVER_CONVERGENCE_MSG)\n"
     ]
    }
   ],
   "source": [
    "compare_loss={}\n",
    "compare_accuracy = {}\n",
    "logreg = LogisticRegression(multi_class='multinomial', solver='lbfgs', random_state=147)\n",
    "logreg.fit(train_vgg_bf, (y_train * range(Num_Class)).sum(axis=1))\n",
    "valid_probs = logreg.predict_proba(valid_vgg_bf)\n",
    "valid_preds = logreg.predict(valid_vgg_bf)\n",
    "compare_loss['Vgg16']=log_loss(y_test, valid_probs)\n",
    "compare_accuracy['Vgg16']=accuracy_score((y_test * range(Num_Class)).sum(axis=1), valid_preds)\n",
    "print('Validation VGG LogLoss {}'.format(compare_loss['Vgg16']))\n",
    "print('Validation VGG Accuracy {}'.format(compare_accuracy['Vgg16']))\n",
    "y_tl_test = (y_test * range(Num_Class)).sum(axis=1)"
   ]
  },
  {
   "cell_type": "code",
   "execution_count": 18,
   "metadata": {},
   "outputs": [
    {
     "name": "stdout",
     "output_type": "stream",
     "text": [
      "Accuracy: 0.9215686274509803\n",
      "F1 score: 0.9180555555555556\n",
      "Recall: 0.9215686274509803\n",
      "Precision: 0.9290382819794584\n",
      "\n",
      " clasification report:\n",
      "               precision    recall  f1-score   support\n",
      "\n",
      "           0       0.88      1.00      0.94        15\n",
      "           1       1.00      0.76      0.87        17\n",
      "           2       0.90      1.00      0.95        19\n",
      "\n",
      "    accuracy                           0.92        51\n",
      "   macro avg       0.93      0.92      0.92        51\n",
      "weighted avg       0.93      0.92      0.92        51\n",
      "\n",
      "\n",
      " confussion matrix:\n",
      " [[15  0  0]\n",
      " [ 2 13  2]\n",
      " [ 0  0 19]]\n"
     ]
    }
   ],
   "source": [
    "print ('Accuracy:', accuracy_score(y_tl_test, valid_preds))\n",
    "print ('F1 score:', f1_score(y_tl_test, valid_preds, average='macro'))\n",
    "print ('Recall:', recall_score(y_tl_test, valid_preds, average='macro'))\n",
    "print ('Precision:', precision_score(y_tl_test, valid_preds, average='macro'))\n",
    "print ('\\n clasification report:\\n', classification_report(y_tl_test,valid_preds))\n",
    "print ('\\n confussion matrix:\\n',confusion_matrix(y_tl_test, valid_preds))"
   ]
  }
 ],
 "metadata": {
  "kernelspec": {
   "display_name": "Python 3",
   "language": "python",
   "name": "python3"
  },
  "language_info": {
   "codemirror_mode": {
    "name": "ipython",
    "version": 3
   },
   "file_extension": ".py",
   "mimetype": "text/x-python",
   "name": "python",
   "nbconvert_exporter": "python",
   "pygments_lexer": "ipython3",
   "version": "3.7.4"
  }
 },
 "nbformat": 4,
 "nbformat_minor": 4
}
