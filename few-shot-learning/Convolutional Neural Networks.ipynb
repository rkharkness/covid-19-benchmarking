{
 "cells": [
  {
   "cell_type": "markdown",
   "metadata": {},
   "source": [
    "# COVID-19 Classification using 4-layer Convolutional Neural Networks."
   ]
  },
  {
   "cell_type": "code",
   "execution_count": 2,
   "metadata": {},
   "outputs": [
    {
     "name": "stdout",
     "output_type": "stream",
     "text": [
      "Requirement already satisfied: opencv-python in /opt/anaconda3/lib/python3.7/site-packages (4.5.1.48)\r\n",
      "Requirement already satisfied: numpy>=1.14.5 in /opt/anaconda3/lib/python3.7/site-packages (from opencv-python) (1.18.4)\r\n"
     ]
    }
   ],
   "source": [
    "! pip install opencv-python"
   ]
  },
  {
   "cell_type": "code",
   "execution_count": 3,
   "metadata": {},
   "outputs": [
    {
     "name": "stderr",
     "output_type": "stream",
     "text": [
      "Using TensorFlow backend.\n"
     ]
    }
   ],
   "source": [
    "import numpy as np # linear algebra\n",
    "import pandas as pd # data processing, CSV file I/O (e.g. pd.read_csv)\n",
    "import os\n",
    "import cv2\n",
    "import numpy as np\n",
    "import shutil\n",
    "from sklearn import preprocessing\n",
    "from keras.preprocessing import image\n",
    "from sklearn.model_selection import train_test_split\n",
    "from keras.applications.vgg16 import VGG16\n",
    "from keras.applications import xception\n",
    "from keras.applications import inception_v3\n",
    "from keras.applications.vgg16 import preprocess_input\n",
    "from sklearn.linear_model import LogisticRegression\n",
    "from sklearn.metrics import log_loss, accuracy_score\n",
    "from sklearn.metrics import precision_score, \\\n",
    "    recall_score, confusion_matrix, classification_report, \\\n",
    "    accuracy_score, f1_score\n",
    "from sklearn.cluster import KMeans\n",
    "from sklearn.metrics import silhouette_score\n",
    "from sklearn.metrics import f1_score\n",
    "%matplotlib inline\n",
    "import matplotlib.image as mpimg\n",
    "import matplotlib.pyplot as plt\n",
    "from glob import glob"
   ]
  },
  {
   "cell_type": "code",
   "execution_count": 4,
   "metadata": {
    "id": "uezm2gZUgajw"
   },
   "outputs": [],
   "source": [
    "base_dir = './data/'\n",
    "\n",
    "train_dir = os.path.join(base_dir, 'train')\n",
    "validation_dir = os.path.join(base_dir, 'test')"
   ]
  },
  {
   "cell_type": "code",
   "execution_count": 5,
   "metadata": {
    "id": "HCO_BTMI6R9w"
   },
   "outputs": [],
   "source": [
    "import tensorflow as tf\n",
    " \n",
    "model = tf.keras.models.Sequential([\n",
    "    tf.keras.layers.Conv2D(16, (3,3), activation='relu', input_shape=(150, 150, 3)),\n",
    "    tf.keras.layers.MaxPooling2D(2,2),\n",
    "    tf.keras.layers.Conv2D(32, (3,3), activation='relu'),\n",
    "    tf.keras.layers.MaxPooling2D(2,2), \n",
    "    tf.keras.layers.Conv2D(64, (3,3), activation='relu'), \n",
    "    tf.keras.layers.MaxPooling2D(2,2),\n",
    "    tf.keras.layers.Flatten(), \n",
    "    tf.keras.layers.Dense(512, activation='relu'), \n",
    "    tf.keras.layers.Dense(3, activation='softmax')  \n",
    "])\n"
   ]
  },
  {
   "cell_type": "code",
   "execution_count": 6,
   "metadata": {
    "id": "0AKNu0586zHF",
    "outputId": "84ad4b5f-6d4a-4dfc-8fd9-0a717a643abf"
   },
   "outputs": [
    {
     "name": "stdout",
     "output_type": "stream",
     "text": [
      "Model: \"sequential\"\n",
      "_________________________________________________________________\n",
      "Layer (type)                 Output Shape              Param #   \n",
      "=================================================================\n",
      "conv2d (Conv2D)              (None, 148, 148, 16)      448       \n",
      "_________________________________________________________________\n",
      "max_pooling2d (MaxPooling2D) (None, 74, 74, 16)        0         \n",
      "_________________________________________________________________\n",
      "conv2d_1 (Conv2D)            (None, 72, 72, 32)        4640      \n",
      "_________________________________________________________________\n",
      "max_pooling2d_1 (MaxPooling2 (None, 36, 36, 32)        0         \n",
      "_________________________________________________________________\n",
      "conv2d_2 (Conv2D)            (None, 34, 34, 64)        18496     \n",
      "_________________________________________________________________\n",
      "max_pooling2d_2 (MaxPooling2 (None, 17, 17, 64)        0         \n",
      "_________________________________________________________________\n",
      "flatten (Flatten)            (None, 18496)             0         \n",
      "_________________________________________________________________\n",
      "dense (Dense)                (None, 512)               9470464   \n",
      "_________________________________________________________________\n",
      "dense_1 (Dense)              (None, 3)                 1539      \n",
      "=================================================================\n",
      "Total params: 9,495,587\n",
      "Trainable params: 9,495,587\n",
      "Non-trainable params: 0\n",
      "_________________________________________________________________\n"
     ]
    }
   ],
   "source": [
    "model.summary()"
   ]
  },
  {
   "cell_type": "code",
   "execution_count": 7,
   "metadata": {
    "id": "FEgt8B7E61SB"
   },
   "outputs": [],
   "source": [
    "model.compile(optimizer='adam', loss= 'categorical_crossentropy', metrics=['accuracy'])"
   ]
  },
  {
   "cell_type": "code",
   "execution_count": 8,
   "metadata": {
    "id": "t0DxfA_g7MAL",
    "outputId": "4293ecd9-2d11-4917-ecdd-167063f05839"
   },
   "outputs": [
    {
     "name": "stdout",
     "output_type": "stream",
     "text": [
      "Found 251 images belonging to 3 classes.\n",
      "Found 66 images belonging to 3 classes.\n"
     ]
    }
   ],
   "source": [
    "from tensorflow.keras.preprocessing.image import ImageDataGenerator\n",
    "\n",
    "# All images will be rescaled by 1./255.\n",
    "train_datagen = ImageDataGenerator( rescale = 1.0/255. )\n",
    "test_datagen  = ImageDataGenerator( rescale = 1.0/255. )\n",
    "\n",
    "# --------------------\n",
    "# Flow training images in batches of 20 using train_datagen generator\n",
    "# --------------------\n",
    "train_generator = train_datagen.flow_from_directory(train_dir,\n",
    "                                                    batch_size=20,\n",
    "                                                    class_mode='categorical',\n",
    "                                                    target_size=(150, 150))     \n",
    "# --------------------\n",
    "# Flow validation images in batches of 20 using test_datagen generator\n",
    "# --------------------\n",
    "validation_generator =  test_datagen.flow_from_directory(validation_dir,\n",
    "                                                         batch_size=20,\n",
    "                                                         class_mode  = 'categorical',\n",
    "                                                         target_size = (150, 150),\n",
    "                                                         shuffle=False)"
   ]
  },
  {
   "cell_type": "code",
   "execution_count": 9,
   "metadata": {
    "id": "VRdUphDd7cIG",
    "outputId": "8f47a779-f134-4238-decd-8a715c7cface"
   },
   "outputs": [
    {
     "name": "stdout",
     "output_type": "stream",
     "text": [
      "WARNING:tensorflow:sample_weight modes were coerced from\n",
      "  ...\n",
      "    to  \n",
      "  ['...']\n",
      "WARNING:tensorflow:sample_weight modes were coerced from\n",
      "  ...\n",
      "    to  \n",
      "  ['...']\n",
      "Train for 10 steps, validate for 3 steps\n",
      "Epoch 1/20\n",
      "10/10 - 10s - loss: 1.7097 - accuracy: 0.4921 - val_loss: 0.8808 - val_accuracy: 0.7167\n",
      "Epoch 2/20\n",
      "10/10 - 9s - loss: 0.6634 - accuracy: 0.8691 - val_loss: 0.4274 - val_accuracy: 0.8667\n",
      "Epoch 3/20\n",
      "10/10 - 9s - loss: 0.3093 - accuracy: 0.9005 - val_loss: 0.1908 - val_accuracy: 0.9167\n",
      "Epoch 4/20\n",
      "10/10 - 10s - loss: 0.2373 - accuracy: 0.8953 - val_loss: 0.2648 - val_accuracy: 0.8833\n",
      "Epoch 5/20\n",
      "10/10 - 9s - loss: 0.1180 - accuracy: 0.9529 - val_loss: 0.2770 - val_accuracy: 0.8667\n",
      "Epoch 6/20\n",
      "10/10 - 9s - loss: 0.1137 - accuracy: 0.9476 - val_loss: 0.4262 - val_accuracy: 0.7833\n",
      "Epoch 7/20\n",
      "10/10 - 10s - loss: 0.0711 - accuracy: 0.9581 - val_loss: 0.2823 - val_accuracy: 0.9000\n",
      "Epoch 8/20\n",
      "10/10 - 10s - loss: 0.0625 - accuracy: 0.9791 - val_loss: 0.1755 - val_accuracy: 0.9333\n",
      "Epoch 9/20\n",
      "10/10 - 11s - loss: 0.0443 - accuracy: 0.9900 - val_loss: 0.1840 - val_accuracy: 0.9167\n",
      "Epoch 10/20\n",
      "10/10 - 9s - loss: 0.0692 - accuracy: 0.9791 - val_loss: 0.1873 - val_accuracy: 0.9333\n",
      "Epoch 11/20\n",
      "10/10 - 9s - loss: 0.0491 - accuracy: 0.9791 - val_loss: 0.1684 - val_accuracy: 0.9500\n",
      "Epoch 12/20\n",
      "10/10 - 9s - loss: 0.0239 - accuracy: 0.9948 - val_loss: 0.1570 - val_accuracy: 0.9333\n",
      "Epoch 13/20\n",
      "10/10 - 10s - loss: 0.0180 - accuracy: 0.9950 - val_loss: 0.1325 - val_accuracy: 0.9500\n",
      "Epoch 14/20\n",
      "10/10 - 10s - loss: 0.0061 - accuracy: 1.0000 - val_loss: 0.1451 - val_accuracy: 0.9333\n",
      "Epoch 15/20\n",
      "10/10 - 10s - loss: 0.0033 - accuracy: 1.0000 - val_loss: 0.1296 - val_accuracy: 0.9500\n",
      "Epoch 16/20\n",
      "10/10 - 10s - loss: 0.0036 - accuracy: 1.0000 - val_loss: 0.3711 - val_accuracy: 0.8833\n",
      "Epoch 17/20\n",
      "10/10 - 10s - loss: 0.0029 - accuracy: 1.0000 - val_loss: 0.1212 - val_accuracy: 0.9667\n",
      "Epoch 18/20\n",
      "10/10 - 9s - loss: 0.0108 - accuracy: 1.0000 - val_loss: 0.1791 - val_accuracy: 0.9000\n",
      "Epoch 19/20\n",
      "10/10 - 9s - loss: 0.0036 - accuracy: 1.0000 - val_loss: 0.1283 - val_accuracy: 0.9667\n",
      "Epoch 20/20\n",
      "10/10 - 9s - loss: 0.0035 - accuracy: 1.0000 - val_loss: 0.3185 - val_accuracy: 0.9000\n"
     ]
    }
   ],
   "source": [
    "history = model.fit(train_generator,\n",
    "                              validation_data=validation_generator,\n",
    "                              steps_per_epoch=10,\n",
    "                              epochs=20,\n",
    "                              validation_steps = 3,\n",
    "                              verbose=2)"
   ]
  },
  {
   "cell_type": "code",
   "execution_count": 11,
   "metadata": {},
   "outputs": [
    {
     "name": "stdout",
     "output_type": "stream",
     "text": [
      "4/4 [==============================] - 1s 318ms/step\n",
      "              precision    recall  f1-score   support\n",
      "\n",
      "           0       1.00      1.00      1.00        26\n",
      "           1       1.00      0.70      0.82        20\n",
      "           2       0.77      1.00      0.87        20\n",
      "\n",
      "    accuracy                           0.91        66\n",
      "   macro avg       0.92      0.90      0.90        66\n",
      "weighted avg       0.93      0.91      0.91        66\n",
      "\n"
     ]
    }
   ],
   "source": [
    "from sklearn.metrics import classification_report\n",
    "from sklearn import preprocessing\n",
    "\n",
    "y_pred = model.predict(validation_generator, verbose=1)\n",
    "y_pred_bool = np.argmax(y_pred, axis=1)\n",
    "print(classification_report(validation_generator.classes, y_pred_bool))"
   ]
  }
 ],
 "metadata": {
  "kernelspec": {
   "display_name": "Python 3",
   "language": "python",
   "name": "python3"
  },
  "language_info": {
   "codemirror_mode": {
    "name": "ipython",
    "version": 3
   },
   "file_extension": ".py",
   "mimetype": "text/x-python",
   "name": "python",
   "nbconvert_exporter": "python",
   "pygments_lexer": "ipython3",
   "version": "3.7.4"
  }
 },
 "nbformat": 4,
 "nbformat_minor": 4
}
